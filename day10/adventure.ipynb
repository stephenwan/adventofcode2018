{
 "cells": [
  {
   "cell_type": "code",
   "execution_count": 1,
   "metadata": {},
   "outputs": [],
   "source": [
    "# %matplotlib nbagg\n",
    "%matplotlib inline\n",
    "\n",
    "import re\n",
    "import pandas as pd\n",
    "import matplotlib.pyplot as plt\n",
    "import matplotlib.animation as animation\n",
    "\n",
    "import lib.util as u"
   ]
  },
  {
   "cell_type": "code",
   "execution_count": 2,
   "metadata": {},
   "outputs": [],
   "source": [
    "def parse_line(line):\n",
    "    pieces = re.split('<|>', line)\n",
    "    x, y = pieces[1].split(',')\n",
    "    dx, dy = pieces[3].split(',')\n",
    "\n",
    "    return {\n",
    "        'x': int(x),\n",
    "        'y': int(y),\n",
    "        'dx': int(dx),\n",
    "        'dy': int(dy)\n",
    "    }\n",
    "\n",
    "\n",
    "def to_dataframe(input):\n",
    "    return pd.DataFrame.from_records(input)\n",
    "\n",
    "\n",
    "def dataframe_at_time(df, t=0):\n",
    "    df = df.copy()\n",
    "    df['x'] = df['x'] + t * df['dx']\n",
    "    df['y'] = df['y'] + t * df['dy']\n",
    "    return df"
   ]
  },
  {
   "cell_type": "markdown",
   "metadata": {},
   "source": [
    "## Demo"
   ]
  },
  {
   "cell_type": "code",
   "execution_count": 3,
   "metadata": {},
   "outputs": [
    {
     "data": {
      "text/plain": [
       "<matplotlib.axes._subplots.AxesSubplot at 0x115f9ff28>"
      ]
     },
     "execution_count": 3,
     "metadata": {},
     "output_type": "execute_result"
    },
    {
     "data": {
      "image/png": "[encoded data removed]",
      "text/plain": [
       "<Figure size 432x288 with 1 Axes>"
      ]
     },
     "metadata": {
      "needs_background": "light"
     },
     "output_type": "display_data"
    }
   ],
   "source": [
    "demo_txt = '''position=< 9,  1> velocity=< 0,  2>\n",
    "position=< 7,  0> velocity=<-1,  0>\n",
    "position=< 3, -2> velocity=<-1,  1>\n",
    "position=< 6, 10> velocity=<-2, -1>\n",
    "position=< 2, -4> velocity=< 2,  2>\n",
    "position=<-6, 10> velocity=< 2, -2>\n",
    "position=< 1,  8> velocity=< 1, -1>\n",
    "position=< 1,  7> velocity=< 1,  0>\n",
    "position=<-3, 11> velocity=< 1, -2>\n",
    "position=< 7,  6> velocity=<-1, -1>\n",
    "position=<-2,  3> velocity=< 1,  0>\n",
    "position=<-4,  3> velocity=< 2,  0>\n",
    "position=<10, -3> velocity=<-1,  1>\n",
    "position=< 5, 11> velocity=< 1, -2>\n",
    "position=< 4,  7> velocity=< 0, -1>\n",
    "position=< 8, -2> velocity=< 0,  1>\n",
    "position=<15,  0> velocity=<-2,  0>\n",
    "position=< 1,  6> velocity=< 1,  0>\n",
    "position=< 8,  9> velocity=< 0, -1>\n",
    "position=< 3,  3> velocity=<-1,  1>\n",
    "position=< 0,  5> velocity=< 0, -1>\n",
    "position=<-2,  2> velocity=< 2,  0>\n",
    "position=< 5, -2> velocity=< 1,  2>\n",
    "position=< 1,  4> velocity=< 2,  1>\n",
    "position=<-2,  7> velocity=< 2, -2>\n",
    "position=< 3,  6> velocity=<-1, -1>\n",
    "position=< 5,  0> velocity=< 1,  0>\n",
    "position=<-6,  0> velocity=< 2,  0>\n",
    "position=< 5,  9> velocity=< 1, -2>\n",
    "position=<14,  7> velocity=<-2,  0>\n",
    "position=<-3,  6> velocity=< 2, -1>'''\n",
    "\n",
    "demo_input = [parse_line(line) for line in demo_txt.split('\\n')]\n",
    "demo_df = to_dataframe(demo_input)\n",
    "dataframe_at_time(demo_df, 3).plot.scatter(x='x', y='y')"
   ]
  },
  {
   "cell_type": "markdown",
   "metadata": {},
   "source": [
    "## Explore"
   ]
  },
  {
   "cell_type": "code",
   "execution_count": 4,
   "metadata": {},
   "outputs": [],
   "source": [
    "input = u.get_input_from_file('./input.dat', parser=dayA.parse_line)\n",
    "df = dayA.to_dataframe(input)"
   ]
  },
  {
   "cell_type": "code",
   "execution_count": null,
   "metadata": {},
   "outputs": [],
   "source": [
    "for i in range(10):\n",
    "    df_t1 = dayA.dataframe_at_time(df, i)\n",
    "    print(df_t1['x'].max() - df_t1['x'].min())"
   ]
  },
  {
   "cell_type": "code",
   "execution_count": null,
   "metadata": {},
   "outputs": [],
   "source": [
    "def alignment(df, t_offset, steps):\n",
    "    records = []\n",
    "    for i in range(t_offset, t_offset + steps):\n",
    "        df_at_t = dayA.dataframe_at_time(df, i)\n",
    "        value = df_at_t.groupby('x')['x'].agg('count').max() + df_at_t.groupby('y')['y'].agg('count').max()\n",
    "        records.append({'t': i, 'aligned': value})\n",
    "    return pd.DataFrame.from_records(records)"
   ]
  },
  {
   "cell_type": "code",
   "execution_count": null,
   "metadata": {},
   "outputs": [],
   "source": [
    "a = alignment(df, 10000, 100)\n",
    "a.set_index('t', inplace=True)"
   ]
  },
  {
   "cell_type": "code",
   "execution_count": null,
   "metadata": {
    "scrolled": true
   },
   "outputs": [],
   "source": [
    "a.plot()"
   ]
  },
  {
   "cell_type": "code",
   "execution_count": null,
   "metadata": {},
   "outputs": [],
   "source": [
    "a.idxmax()"
   ]
  },
  {
   "cell_type": "code",
   "execution_count": null,
   "metadata": {},
   "outputs": [],
   "source": [
    "df_at_10036 = dayA.dataframe_at_time(df, 10036)\n",
    "df_at_10036['inverse_y'] = - df_at_10036['y']\n",
    "df_at_10036.plot.scatter(x='x', y='inverse_y')"
   ]
  },
  {
   "cell_type": "markdown",
   "metadata": {},
   "source": [
    "## Animation"
   ]
  },
  {
   "cell_type": "code",
   "execution_count": null,
   "metadata": {},
   "outputs": [],
   "source": [
    "def plot_df(df, step_size=1):\n",
    "    df_copy = df.copy()\n",
    "    \n",
    "    fig = plt.figure()\n",
    "\n",
    "    def update():\n",
    "        plt.clf()\n",
    "        df_copy['x'] = df_copy['x'] + step_size * df_copy['dx']\n",
    "        df_copy['y'] = df_copy['y'] + step_size * df_copy['dy']\n",
    "        return plt.scatter(x=df_copy['x'], y=df_copy['y'], alpha=0.8)\n",
    "\n",
    "    return animation.FuncAnimation(fig, update, frames=1, interval=2000, repeat=True)\n"
   ]
  }
 ],
 "metadata": {
  "kernelspec": {
   "display_name": "advent of code",
   "language": "python",
   "name": "adventofcode"
  },
  "language_info": {
   "codemirror_mode": {
    "name": "ipython",
    "version": 3
   },
   "file_extension": ".py",
   "mimetype": "text/x-python",
   "name": "python",
   "nbconvert_exporter": "python",
   "pygments_lexer": "ipython3",
   "version": "3.7.0"
  }
 },
 "nbformat": 4,
 "nbformat_minor": 2
}
